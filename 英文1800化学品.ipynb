{
 "cells": [
  {
   "cell_type": "markdown",
   "id": "c684399e",
   "metadata": {},
   "source": [
    "# 导入数据"
   ]
  },
  {
   "cell_type": "code",
   "execution_count": 75,
   "id": "06e7254c",
   "metadata": {},
   "outputs": [],
   "source": [
    "import pandas as pd\n",
    "import numpy as np"
   ]
  },
  {
   "cell_type": "code",
   "execution_count": 76,
   "id": "167d0980",
   "metadata": {},
   "outputs": [
    {
     "data": {
      "text/html": [
       "<div>\n",
       "<style scoped>\n",
       "    .dataframe tbody tr th:only-of-type {\n",
       "        vertical-align: middle;\n",
       "    }\n",
       "\n",
       "    .dataframe tbody tr th {\n",
       "        vertical-align: top;\n",
       "    }\n",
       "\n",
       "    .dataframe thead th {\n",
       "        text-align: right;\n",
       "    }\n",
       "</style>\n",
       "<table border=\"1\" class=\"dataframe\">\n",
       "  <thead>\n",
       "    <tr style=\"text-align: right;\">\n",
       "      <th></th>\n",
       "      <th>PUBCHEM_CID</th>\n",
       "      <th>DRUG_NAME</th>\n",
       "      <th>source</th>\n",
       "      <th>Autonomic nervous system disorders</th>\n",
       "      <th>label</th>\n",
       "      <th>atom:element_main_group</th>\n",
       "      <th>atom:element_metal_group_I_II</th>\n",
       "      <th>atom:element_metal_group_III</th>\n",
       "      <th>atom:element_metal_metalloid</th>\n",
       "      <th>atom:element_metal_poor_metal</th>\n",
       "      <th>...</th>\n",
       "      <th>ring:polycycle_bicyclo_propene</th>\n",
       "      <th>ring:polycycle_spiro_[2.2]pentane</th>\n",
       "      <th>ring:polycycle_spiro_[2.5]octane</th>\n",
       "      <th>ring:polycycle_spiro_[4.5]decane</th>\n",
       "      <th>ring:polycycle_spiro_1_4-dioxaspiro[4.5]decane</th>\n",
       "      <th>ring:polycycle_tricyclo_[3.5.5]_cyclopropa[cd]pentalene</th>\n",
       "      <th>ring:polycycle_tricyclo_[3.7.7]bullvalene</th>\n",
       "      <th>ring:polycycle_tricyclo_[3.7.7]semibullvalene</th>\n",
       "      <th>ring:polycycle_tricyclo_adamantane</th>\n",
       "      <th>ring:polycycle_tricyclo_benzvalene</th>\n",
       "    </tr>\n",
       "  </thead>\n",
       "  <tbody>\n",
       "    <tr>\n",
       "      <th>0</th>\n",
       "      <td>247</td>\n",
       "      <td>Betaine</td>\n",
       "      <td>ADReCS</td>\n",
       "      <td>Urinary incontinence</td>\n",
       "      <td>0</td>\n",
       "      <td>0</td>\n",
       "      <td>0</td>\n",
       "      <td>0</td>\n",
       "      <td>0</td>\n",
       "      <td>0</td>\n",
       "      <td>...</td>\n",
       "      <td>0</td>\n",
       "      <td>0</td>\n",
       "      <td>0</td>\n",
       "      <td>0</td>\n",
       "      <td>0</td>\n",
       "      <td>0</td>\n",
       "      <td>0</td>\n",
       "      <td>0</td>\n",
       "      <td>0</td>\n",
       "      <td>0</td>\n",
       "    </tr>\n",
       "    <tr>\n",
       "      <th>1</th>\n",
       "      <td>444</td>\n",
       "      <td>Bupropion</td>\n",
       "      <td>ADReCS</td>\n",
       "      <td>Incontinence; Urinary incontinence; Orthostati...</td>\n",
       "      <td>0</td>\n",
       "      <td>0</td>\n",
       "      <td>0</td>\n",
       "      <td>0</td>\n",
       "      <td>0</td>\n",
       "      <td>0</td>\n",
       "      <td>...</td>\n",
       "      <td>0</td>\n",
       "      <td>0</td>\n",
       "      <td>0</td>\n",
       "      <td>0</td>\n",
       "      <td>0</td>\n",
       "      <td>0</td>\n",
       "      <td>0</td>\n",
       "      <td>0</td>\n",
       "      <td>0</td>\n",
       "      <td>0</td>\n",
       "    </tr>\n",
       "    <tr>\n",
       "      <th>2</th>\n",
       "      <td>772</td>\n",
       "      <td>Enoxaparin</td>\n",
       "      <td>ADReCS</td>\n",
       "      <td>Urinary incontinence; Orthostatic hypotension;...</td>\n",
       "      <td>0</td>\n",
       "      <td>0</td>\n",
       "      <td>0</td>\n",
       "      <td>0</td>\n",
       "      <td>0</td>\n",
       "      <td>0</td>\n",
       "      <td>...</td>\n",
       "      <td>0</td>\n",
       "      <td>0</td>\n",
       "      <td>0</td>\n",
       "      <td>0</td>\n",
       "      <td>0</td>\n",
       "      <td>0</td>\n",
       "      <td>0</td>\n",
       "      <td>0</td>\n",
       "      <td>0</td>\n",
       "      <td>0</td>\n",
       "    </tr>\n",
       "    <tr>\n",
       "      <th>3</th>\n",
       "      <td>937</td>\n",
       "      <td>Nicotinate</td>\n",
       "      <td>ADReCS</td>\n",
       "      <td>Orthostatic hypotension; Anal incontinence</td>\n",
       "      <td>0</td>\n",
       "      <td>0</td>\n",
       "      <td>0</td>\n",
       "      <td>0</td>\n",
       "      <td>0</td>\n",
       "      <td>0</td>\n",
       "      <td>...</td>\n",
       "      <td>0</td>\n",
       "      <td>0</td>\n",
       "      <td>0</td>\n",
       "      <td>0</td>\n",
       "      <td>0</td>\n",
       "      <td>0</td>\n",
       "      <td>0</td>\n",
       "      <td>0</td>\n",
       "      <td>0</td>\n",
       "      <td>0</td>\n",
       "    </tr>\n",
       "    <tr>\n",
       "      <th>4</th>\n",
       "      <td>1727</td>\n",
       "      <td>Dalfampridine</td>\n",
       "      <td>ADReCS</td>\n",
       "      <td>Incontinence; Urinary incontinence; Anal incon...</td>\n",
       "      <td>0</td>\n",
       "      <td>0</td>\n",
       "      <td>0</td>\n",
       "      <td>0</td>\n",
       "      <td>0</td>\n",
       "      <td>0</td>\n",
       "      <td>...</td>\n",
       "      <td>0</td>\n",
       "      <td>0</td>\n",
       "      <td>0</td>\n",
       "      <td>0</td>\n",
       "      <td>0</td>\n",
       "      <td>0</td>\n",
       "      <td>0</td>\n",
       "      <td>0</td>\n",
       "      <td>0</td>\n",
       "      <td>0</td>\n",
       "    </tr>\n",
       "    <tr>\n",
       "      <th>...</th>\n",
       "      <td>...</td>\n",
       "      <td>...</td>\n",
       "      <td>...</td>\n",
       "      <td>...</td>\n",
       "      <td>...</td>\n",
       "      <td>...</td>\n",
       "      <td>...</td>\n",
       "      <td>...</td>\n",
       "      <td>...</td>\n",
       "      <td>...</td>\n",
       "      <td>...</td>\n",
       "      <td>...</td>\n",
       "      <td>...</td>\n",
       "      <td>...</td>\n",
       "      <td>...</td>\n",
       "      <td>...</td>\n",
       "      <td>...</td>\n",
       "      <td>...</td>\n",
       "      <td>...</td>\n",
       "      <td>...</td>\n",
       "      <td>...</td>\n",
       "    </tr>\n",
       "    <tr>\n",
       "      <th>1805</th>\n",
       "      <td>O[C@H]1O[C@H](COS(=O)(=O)O)[C@@H](O[C@@H]2O[C@...</td>\n",
       "      <td>NaN</td>\n",
       "      <td>NaN</td>\n",
       "      <td>NaN</td>\n",
       "      <td>1</td>\n",
       "      <td>0</td>\n",
       "      <td>0</td>\n",
       "      <td>0</td>\n",
       "      <td>0</td>\n",
       "      <td>0</td>\n",
       "      <td>...</td>\n",
       "      <td>0</td>\n",
       "      <td>0</td>\n",
       "      <td>0</td>\n",
       "      <td>0</td>\n",
       "      <td>0</td>\n",
       "      <td>0</td>\n",
       "      <td>0</td>\n",
       "      <td>0</td>\n",
       "      <td>0</td>\n",
       "      <td>0</td>\n",
       "    </tr>\n",
       "    <tr>\n",
       "      <th>1806</th>\n",
       "      <td>NCCS</td>\n",
       "      <td>NaN</td>\n",
       "      <td>NaN</td>\n",
       "      <td>NaN</td>\n",
       "      <td>1</td>\n",
       "      <td>0</td>\n",
       "      <td>0</td>\n",
       "      <td>0</td>\n",
       "      <td>0</td>\n",
       "      <td>0</td>\n",
       "      <td>...</td>\n",
       "      <td>0</td>\n",
       "      <td>0</td>\n",
       "      <td>0</td>\n",
       "      <td>0</td>\n",
       "      <td>0</td>\n",
       "      <td>0</td>\n",
       "      <td>0</td>\n",
       "      <td>0</td>\n",
       "      <td>0</td>\n",
       "      <td>0</td>\n",
       "    </tr>\n",
       "    <tr>\n",
       "      <th>1807</th>\n",
       "      <td>CC(=O)C1(O)CCC2C3C=C(Cl)C4=CC(=O)C5CC5C4(C)C3C...</td>\n",
       "      <td>NaN</td>\n",
       "      <td>NaN</td>\n",
       "      <td>NaN</td>\n",
       "      <td>1</td>\n",
       "      <td>0</td>\n",
       "      <td>0</td>\n",
       "      <td>0</td>\n",
       "      <td>0</td>\n",
       "      <td>0</td>\n",
       "      <td>...</td>\n",
       "      <td>0</td>\n",
       "      <td>0</td>\n",
       "      <td>0</td>\n",
       "      <td>0</td>\n",
       "      <td>0</td>\n",
       "      <td>0</td>\n",
       "      <td>0</td>\n",
       "      <td>0</td>\n",
       "      <td>0</td>\n",
       "      <td>0</td>\n",
       "    </tr>\n",
       "    <tr>\n",
       "      <th>1808</th>\n",
       "      <td>CN(c1ccc2c(C)n(C)nc2c1)c3ccnc(Nc4ccc(C)c(c4)S(...</td>\n",
       "      <td>NaN</td>\n",
       "      <td>NaN</td>\n",
       "      <td>NaN</td>\n",
       "      <td>1</td>\n",
       "      <td>0</td>\n",
       "      <td>0</td>\n",
       "      <td>0</td>\n",
       "      <td>0</td>\n",
       "      <td>0</td>\n",
       "      <td>...</td>\n",
       "      <td>0</td>\n",
       "      <td>0</td>\n",
       "      <td>0</td>\n",
       "      <td>0</td>\n",
       "      <td>0</td>\n",
       "      <td>0</td>\n",
       "      <td>0</td>\n",
       "      <td>0</td>\n",
       "      <td>0</td>\n",
       "      <td>0</td>\n",
       "    </tr>\n",
       "    <tr>\n",
       "      <th>1809</th>\n",
       "      <td>OC[C@@H](O)[C@@H](O)[C@H](O)[C@@H](O)C(=O)O</td>\n",
       "      <td>NaN</td>\n",
       "      <td>NaN</td>\n",
       "      <td>NaN</td>\n",
       "      <td>1</td>\n",
       "      <td>0</td>\n",
       "      <td>0</td>\n",
       "      <td>0</td>\n",
       "      <td>0</td>\n",
       "      <td>0</td>\n",
       "      <td>...</td>\n",
       "      <td>0</td>\n",
       "      <td>0</td>\n",
       "      <td>0</td>\n",
       "      <td>0</td>\n",
       "      <td>0</td>\n",
       "      <td>0</td>\n",
       "      <td>0</td>\n",
       "      <td>0</td>\n",
       "      <td>0</td>\n",
       "      <td>0</td>\n",
       "    </tr>\n",
       "  </tbody>\n",
       "</table>\n",
       "<p>1810 rows × 734 columns</p>\n",
       "</div>"
      ],
      "text/plain": [
       "                                            PUBCHEM_CID      DRUG_NAME  \\\n",
       "0                                                   247        Betaine   \n",
       "1                                                   444      Bupropion   \n",
       "2                                                   772     Enoxaparin   \n",
       "3                                                   937     Nicotinate   \n",
       "4                                                  1727  Dalfampridine   \n",
       "...                                                 ...            ...   \n",
       "1805  O[C@H]1O[C@H](COS(=O)(=O)O)[C@@H](O[C@@H]2O[C@...            NaN   \n",
       "1806                                               NCCS            NaN   \n",
       "1807  CC(=O)C1(O)CCC2C3C=C(Cl)C4=CC(=O)C5CC5C4(C)C3C...            NaN   \n",
       "1808  CN(c1ccc2c(C)n(C)nc2c1)c3ccnc(Nc4ccc(C)c(c4)S(...            NaN   \n",
       "1809        OC[C@@H](O)[C@@H](O)[C@H](O)[C@@H](O)C(=O)O            NaN   \n",
       "\n",
       "      source                 Autonomic nervous system disorders  label  \\\n",
       "0     ADReCS                               Urinary incontinence      0   \n",
       "1     ADReCS  Incontinence; Urinary incontinence; Orthostati...      0   \n",
       "2     ADReCS  Urinary incontinence; Orthostatic hypotension;...      0   \n",
       "3     ADReCS         Orthostatic hypotension; Anal incontinence      0   \n",
       "4     ADReCS  Incontinence; Urinary incontinence; Anal incon...      0   \n",
       "...      ...                                                ...    ...   \n",
       "1805     NaN                                                NaN      1   \n",
       "1806     NaN                                                NaN      1   \n",
       "1807     NaN                                                NaN      1   \n",
       "1808     NaN                                                NaN      1   \n",
       "1809     NaN                                                NaN      1   \n",
       "\n",
       "      atom:element_main_group  atom:element_metal_group_I_II  \\\n",
       "0                           0                              0   \n",
       "1                           0                              0   \n",
       "2                           0                              0   \n",
       "3                           0                              0   \n",
       "4                           0                              0   \n",
       "...                       ...                            ...   \n",
       "1805                        0                              0   \n",
       "1806                        0                              0   \n",
       "1807                        0                              0   \n",
       "1808                        0                              0   \n",
       "1809                        0                              0   \n",
       "\n",
       "      atom:element_metal_group_III  atom:element_metal_metalloid  \\\n",
       "0                                0                             0   \n",
       "1                                0                             0   \n",
       "2                                0                             0   \n",
       "3                                0                             0   \n",
       "4                                0                             0   \n",
       "...                            ...                           ...   \n",
       "1805                             0                             0   \n",
       "1806                             0                             0   \n",
       "1807                             0                             0   \n",
       "1808                             0                             0   \n",
       "1809                             0                             0   \n",
       "\n",
       "      atom:element_metal_poor_metal  ...  ring:polycycle_bicyclo_propene  \\\n",
       "0                                 0  ...                               0   \n",
       "1                                 0  ...                               0   \n",
       "2                                 0  ...                               0   \n",
       "3                                 0  ...                               0   \n",
       "4                                 0  ...                               0   \n",
       "...                             ...  ...                             ...   \n",
       "1805                              0  ...                               0   \n",
       "1806                              0  ...                               0   \n",
       "1807                              0  ...                               0   \n",
       "1808                              0  ...                               0   \n",
       "1809                              0  ...                               0   \n",
       "\n",
       "      ring:polycycle_spiro_[2.2]pentane  ring:polycycle_spiro_[2.5]octane  \\\n",
       "0                                     0                                 0   \n",
       "1                                     0                                 0   \n",
       "2                                     0                                 0   \n",
       "3                                     0                                 0   \n",
       "4                                     0                                 0   \n",
       "...                                 ...                               ...   \n",
       "1805                                  0                                 0   \n",
       "1806                                  0                                 0   \n",
       "1807                                  0                                 0   \n",
       "1808                                  0                                 0   \n",
       "1809                                  0                                 0   \n",
       "\n",
       "      ring:polycycle_spiro_[4.5]decane  \\\n",
       "0                                    0   \n",
       "1                                    0   \n",
       "2                                    0   \n",
       "3                                    0   \n",
       "4                                    0   \n",
       "...                                ...   \n",
       "1805                                 0   \n",
       "1806                                 0   \n",
       "1807                                 0   \n",
       "1808                                 0   \n",
       "1809                                 0   \n",
       "\n",
       "      ring:polycycle_spiro_1_4-dioxaspiro[4.5]decane  \\\n",
       "0                                                  0   \n",
       "1                                                  0   \n",
       "2                                                  0   \n",
       "3                                                  0   \n",
       "4                                                  0   \n",
       "...                                              ...   \n",
       "1805                                               0   \n",
       "1806                                               0   \n",
       "1807                                               0   \n",
       "1808                                               0   \n",
       "1809                                               0   \n",
       "\n",
       "      ring:polycycle_tricyclo_[3.5.5]_cyclopropa[cd]pentalene  \\\n",
       "0                                                     0         \n",
       "1                                                     0         \n",
       "2                                                     0         \n",
       "3                                                     0         \n",
       "4                                                     0         \n",
       "...                                                 ...         \n",
       "1805                                                  0         \n",
       "1806                                                  0         \n",
       "1807                                                  0         \n",
       "1808                                                  0         \n",
       "1809                                                  0         \n",
       "\n",
       "      ring:polycycle_tricyclo_[3.7.7]bullvalene  \\\n",
       "0                                             0   \n",
       "1                                             0   \n",
       "2                                             0   \n",
       "3                                             0   \n",
       "4                                             0   \n",
       "...                                         ...   \n",
       "1805                                          0   \n",
       "1806                                          0   \n",
       "1807                                          0   \n",
       "1808                                          0   \n",
       "1809                                          0   \n",
       "\n",
       "      ring:polycycle_tricyclo_[3.7.7]semibullvalene  \\\n",
       "0                                                 0   \n",
       "1                                                 0   \n",
       "2                                                 0   \n",
       "3                                                 0   \n",
       "4                                                 0   \n",
       "...                                             ...   \n",
       "1805                                              0   \n",
       "1806                                              0   \n",
       "1807                                              0   \n",
       "1808                                              0   \n",
       "1809                                              0   \n",
       "\n",
       "      ring:polycycle_tricyclo_adamantane  ring:polycycle_tricyclo_benzvalene  \n",
       "0                                      0                                   0  \n",
       "1                                      0                                   0  \n",
       "2                                      0                                   0  \n",
       "3                                      0                                   0  \n",
       "4                                      0                                   0  \n",
       "...                                  ...                                 ...  \n",
       "1805                                   0                                   0  \n",
       "1806                                   0                                   0  \n",
       "1807                                   0                                   0  \n",
       "1808                                   0                                   0  \n",
       "1809                                   0                                   0  \n",
       "\n",
       "[1810 rows x 734 columns]"
      ]
     },
     "execution_count": 76,
     "metadata": {},
     "output_type": "execute_result"
    }
   ],
   "source": [
    "data = pd.read_excel(r'.\\in\\data-20230322.xlsx')\n",
    "data"
   ]
  },
  {
   "cell_type": "code",
   "execution_count": 77,
   "id": "87cb35ec",
   "metadata": {
    "collapsed": true
   },
   "outputs": [
    {
     "name": "stdout",
     "output_type": "stream",
     "text": [
      "      atom:element_main_group  atom:element_metal_group_I_II  \\\n",
      "0                           0                              0   \n",
      "1                           0                              0   \n",
      "2                           0                              0   \n",
      "3                           0                              0   \n",
      "4                           0                              0   \n",
      "...                       ...                            ...   \n",
      "1805                        0                              0   \n",
      "1806                        0                              0   \n",
      "1807                        0                              0   \n",
      "1808                        0                              0   \n",
      "1809                        0                              0   \n",
      "\n",
      "      atom:element_metal_group_III  atom:element_metal_metalloid  \\\n",
      "0                                0                             0   \n",
      "1                                0                             0   \n",
      "2                                0                             0   \n",
      "3                                0                             0   \n",
      "4                                0                             0   \n",
      "...                            ...                           ...   \n",
      "1805                             0                             0   \n",
      "1806                             0                             0   \n",
      "1807                             0                             0   \n",
      "1808                             0                             0   \n",
      "1809                             0                             0   \n",
      "\n",
      "      atom:element_metal_poor_metal  atom:element_metal_transistion_metal  \\\n",
      "0                                 0                                     0   \n",
      "1                                 0                                     0   \n",
      "2                                 0                                     0   \n",
      "3                                 0                                     0   \n",
      "4                                 0                                     0   \n",
      "...                             ...                                   ...   \n",
      "1805                              0                                     0   \n",
      "1806                              0                                     0   \n",
      "1807                              0                                     0   \n",
      "1808                              0                                     0   \n",
      "1809                              0                                     0   \n",
      "\n",
      "      atom:element_noble_gas  bond:C#N_cyano_acylcyanide  \\\n",
      "0                          0                           0   \n",
      "1                          0                           0   \n",
      "2                          0                           0   \n",
      "3                          0                           0   \n",
      "4                          0                           0   \n",
      "...                      ...                         ...   \n",
      "1805                       0                           0   \n",
      "1806                       0                           0   \n",
      "1807                       0                           0   \n",
      "1808                       0                           0   \n",
      "1809                       0                           0   \n",
      "\n",
      "      bond:C#N_cyano_cyanamide  bond:C#N_cyano_cyanohydrin  ...  \\\n",
      "0                            0                           0  ...   \n",
      "1                            0                           0  ...   \n",
      "2                            0                           0  ...   \n",
      "3                            0                           0  ...   \n",
      "4                            0                           0  ...   \n",
      "...                        ...                         ...  ...   \n",
      "1805                         0                           0  ...   \n",
      "1806                         0                           0  ...   \n",
      "1807                         0                           0  ...   \n",
      "1808                         0                           0  ...   \n",
      "1809                         0                           0  ...   \n",
      "\n",
      "      ring:polycycle_bicyclo_propene  ring:polycycle_spiro_[2.2]pentane  \\\n",
      "0                                  0                                  0   \n",
      "1                                  0                                  0   \n",
      "2                                  0                                  0   \n",
      "3                                  0                                  0   \n",
      "4                                  0                                  0   \n",
      "...                              ...                                ...   \n",
      "1805                               0                                  0   \n",
      "1806                               0                                  0   \n",
      "1807                               0                                  0   \n",
      "1808                               0                                  0   \n",
      "1809                               0                                  0   \n",
      "\n",
      "      ring:polycycle_spiro_[2.5]octane  ring:polycycle_spiro_[4.5]decane  \\\n",
      "0                                    0                                 0   \n",
      "1                                    0                                 0   \n",
      "2                                    0                                 0   \n",
      "3                                    0                                 0   \n",
      "4                                    0                                 0   \n",
      "...                                ...                               ...   \n",
      "1805                                 0                                 0   \n",
      "1806                                 0                                 0   \n",
      "1807                                 0                                 0   \n",
      "1808                                 0                                 0   \n",
      "1809                                 0                                 0   \n",
      "\n",
      "      ring:polycycle_spiro_1_4-dioxaspiro[4.5]decane  \\\n",
      "0                                                  0   \n",
      "1                                                  0   \n",
      "2                                                  0   \n",
      "3                                                  0   \n",
      "4                                                  0   \n",
      "...                                              ...   \n",
      "1805                                               0   \n",
      "1806                                               0   \n",
      "1807                                               0   \n",
      "1808                                               0   \n",
      "1809                                               0   \n",
      "\n",
      "      ring:polycycle_tricyclo_[3.5.5]_cyclopropa[cd]pentalene  \\\n",
      "0                                                     0         \n",
      "1                                                     0         \n",
      "2                                                     0         \n",
      "3                                                     0         \n",
      "4                                                     0         \n",
      "...                                                 ...         \n",
      "1805                                                  0         \n",
      "1806                                                  0         \n",
      "1807                                                  0         \n",
      "1808                                                  0         \n",
      "1809                                                  0         \n",
      "\n",
      "      ring:polycycle_tricyclo_[3.7.7]bullvalene  \\\n",
      "0                                             0   \n",
      "1                                             0   \n",
      "2                                             0   \n",
      "3                                             0   \n",
      "4                                             0   \n",
      "...                                         ...   \n",
      "1805                                          0   \n",
      "1806                                          0   \n",
      "1807                                          0   \n",
      "1808                                          0   \n",
      "1809                                          0   \n",
      "\n",
      "      ring:polycycle_tricyclo_[3.7.7]semibullvalene  \\\n",
      "0                                                 0   \n",
      "1                                                 0   \n",
      "2                                                 0   \n",
      "3                                                 0   \n",
      "4                                                 0   \n",
      "...                                             ...   \n",
      "1805                                              0   \n",
      "1806                                              0   \n",
      "1807                                              0   \n",
      "1808                                              0   \n",
      "1809                                              0   \n",
      "\n",
      "      ring:polycycle_tricyclo_adamantane  ring:polycycle_tricyclo_benzvalene  \n",
      "0                                      0                                   0  \n",
      "1                                      0                                   0  \n",
      "2                                      0                                   0  \n",
      "3                                      0                                   0  \n",
      "4                                      0                                   0  \n",
      "...                                  ...                                 ...  \n",
      "1805                                   0                                   0  \n",
      "1806                                   0                                   0  \n",
      "1807                                   0                                   0  \n",
      "1808                                   0                                   0  \n",
      "1809                                   0                                   0  \n",
      "\n",
      "[1810 rows x 729 columns]\n",
      "0       0\n",
      "1       0\n",
      "2       0\n",
      "3       0\n",
      "4       0\n",
      "       ..\n",
      "1805    1\n",
      "1806    1\n",
      "1807    1\n",
      "1808    1\n",
      "1809    1\n",
      "Name: label, Length: 1810, dtype: int64\n"
     ]
    }
   ],
   "source": [
    "y = data.iloc[:,4]\n",
    "x = data.iloc[:,5:]\n",
    "print(x)\n",
    "print(y)"
   ]
  },
  {
   "cell_type": "markdown",
   "id": "87ad62d6",
   "metadata": {},
   "source": [
    "# 数据划分"
   ]
  },
  {
   "cell_type": "code",
   "execution_count": 78,
   "id": "8bff2665",
   "metadata": {},
   "outputs": [],
   "source": [
    "from sklearn.model_selection import train_test_split\n",
    "Xtrain, Xtest, Ytrain, Ytest = train_test_split(x,y,test_size=0.3,random_state=120)"
   ]
  },
  {
   "cell_type": "code",
   "execution_count": 79,
   "id": "551ef99c",
   "metadata": {},
   "outputs": [
    {
     "data": {
      "text/plain": [
       "0    728\n",
       "1    539\n",
       "Name: label, dtype: int64"
      ]
     },
     "execution_count": 79,
     "metadata": {},
     "output_type": "execute_result"
    }
   ],
   "source": [
    "pd.value_counts(Ytrain)"
   ]
  },
  {
   "cell_type": "code",
   "execution_count": 80,
   "id": "4133b716",
   "metadata": {},
   "outputs": [
    {
     "data": {
      "text/plain": [
       "0    305\n",
       "1    238\n",
       "Name: label, dtype: int64"
      ]
     },
     "execution_count": 80,
     "metadata": {},
     "output_type": "execute_result"
    }
   ],
   "source": [
    "pd.value_counts(Ytest)"
   ]
  },
  {
   "cell_type": "code",
   "execution_count": 81,
   "id": "58676da8",
   "metadata": {},
   "outputs": [],
   "source": [
    "Xtrain.to_excel(r\".\\out\\Xtrain0.xlsx\")\n",
    "Xtest.to_excel(r\".\\out\\Xtest0.xlsx\")\n",
    "pd.DataFrame(Ytrain).to_excel(r\".\\out\\Ytrain0.xlsx\")\n",
    "pd.DataFrame(Ytest).to_excel(r\".\\out\\Ytest0.xlsx\")"
   ]
  },
  {
   "cell_type": "code",
   "execution_count": 82,
   "id": "3d21f157",
   "metadata": {},
   "outputs": [],
   "source": [
    "#恢复索引\n",
    "for i in [Xtrain, Xtest]:\n",
    "    i.index = range(i.shape[0])\n",
    "#恢复索引\n",
    "for i in [Ytrain, Ytest]:\n",
    "    i.index = range(i.shape[0])"
   ]
  },
  {
   "cell_type": "code",
   "execution_count": 83,
   "id": "f5f64aa3",
   "metadata": {},
   "outputs": [],
   "source": [
    "Xtrain.to_excel(r\".\\out\\Xtrain.xlsx\")\n",
    "Xtest.to_excel(r\".\\out\\Xtest.xlsx\")\n",
    "Ytrain.to_excel(r\".\\out\\Ytrain.xlsx\")\n",
    "Ytest.to_excel(r\".\\out\\Ytest.xlsx\")"
   ]
  },
  {
   "cell_type": "markdown",
   "id": "302d4eba",
   "metadata": {},
   "source": [
    "# 建模输入"
   ]
  },
  {
   "cell_type": "code",
   "execution_count": 84,
   "id": "5f045b7f",
   "metadata": {},
   "outputs": [],
   "source": [
    "Xtrainmodel = pd.read_excel(r\".\\in\\Xtrainmodel.xlsx\")"
   ]
  },
  {
   "cell_type": "code",
   "execution_count": 85,
   "id": "106faa24",
   "metadata": {},
   "outputs": [],
   "source": [
    "Xtestmodel = pd.read_excel(r\".\\in\\Xtestmodel.xlsx\")"
   ]
  },
  {
   "cell_type": "code",
   "execution_count": 86,
   "id": "9133eb11",
   "metadata": {},
   "outputs": [],
   "source": [
    "Xtrainmodel = Xtrainmodel.fillna(0)\n",
    "Xtestmodel = Xtestmodel.fillna(0)"
   ]
  },
  {
   "cell_type": "code",
   "execution_count": 87,
   "id": "931581ae",
   "metadata": {},
   "outputs": [
    {
     "data": {
      "text/html": [
       "<div>\n",
       "<style scoped>\n",
       "    .dataframe tbody tr th:only-of-type {\n",
       "        vertical-align: middle;\n",
       "    }\n",
       "\n",
       "    .dataframe tbody tr th {\n",
       "        vertical-align: top;\n",
       "    }\n",
       "\n",
       "    .dataframe thead th {\n",
       "        text-align: right;\n",
       "    }\n",
       "</style>\n",
       "<table border=\"1\" class=\"dataframe\">\n",
       "  <thead>\n",
       "    <tr style=\"text-align: right;\">\n",
       "      <th></th>\n",
       "      <th>bond:C(=O)N_carboxamide_generic</th>\n",
       "      <th>bond:C(=O)O_carboxylicAcid_generic</th>\n",
       "      <th>bond:C=O_carbonyl_generic</th>\n",
       "      <th>bond:CN_amine_alicyclic_generic</th>\n",
       "      <th>bond:CN_amine_aliphatic_generic</th>\n",
       "      <th>bond:COC_ether_aliphatic</th>\n",
       "      <th>bond:COC_ether_aliphatic__aromatic</th>\n",
       "      <th>bond:COH_alcohol_generic</th>\n",
       "      <th>bond:quatN_generic</th>\n",
       "      <th>bond:S=O_sulfonyl_generic</th>\n",
       "      <th>bond:X[any]_halide</th>\n",
       "      <th>bond:X[any_!C]_halide_inorganic</th>\n",
       "      <th>chain:alkaneBranch_isopropyl_C3</th>\n",
       "      <th>chain:alkaneCyclic_ethyl_C2_(connect_noZ)</th>\n",
       "      <th>chain:alkaneLinear_ethyl_C2(H_gt_1)</th>\n",
       "      <th>chain:alkaneLinear_ethyl_C2_(connect_noZ_CN=4)</th>\n",
       "      <th>chain:aromaticAlkane_Ph-C1_acyclic_generic</th>\n",
       "      <th>chain:aromaticAlkane_Ph-C1_cyclic</th>\n",
       "      <th>ring:hetero_[5]_Z_1-Z</th>\n",
       "      <th>ring:hetero_[6]_Z_generic</th>\n",
       "    </tr>\n",
       "  </thead>\n",
       "  <tbody>\n",
       "    <tr>\n",
       "      <th>0</th>\n",
       "      <td>1</td>\n",
       "      <td>1</td>\n",
       "      <td>1</td>\n",
       "      <td>0</td>\n",
       "      <td>1</td>\n",
       "      <td>0</td>\n",
       "      <td>0</td>\n",
       "      <td>1</td>\n",
       "      <td>0</td>\n",
       "      <td>0</td>\n",
       "      <td>0</td>\n",
       "      <td>0</td>\n",
       "      <td>0</td>\n",
       "      <td>0</td>\n",
       "      <td>0</td>\n",
       "      <td>0</td>\n",
       "      <td>1</td>\n",
       "      <td>0</td>\n",
       "      <td>0</td>\n",
       "      <td>1</td>\n",
       "    </tr>\n",
       "    <tr>\n",
       "      <th>1</th>\n",
       "      <td>0</td>\n",
       "      <td>0</td>\n",
       "      <td>0</td>\n",
       "      <td>0</td>\n",
       "      <td>0</td>\n",
       "      <td>0</td>\n",
       "      <td>0</td>\n",
       "      <td>0</td>\n",
       "      <td>0</td>\n",
       "      <td>0</td>\n",
       "      <td>0</td>\n",
       "      <td>0</td>\n",
       "      <td>0</td>\n",
       "      <td>0</td>\n",
       "      <td>0</td>\n",
       "      <td>1</td>\n",
       "      <td>1</td>\n",
       "      <td>0</td>\n",
       "      <td>0</td>\n",
       "      <td>0</td>\n",
       "    </tr>\n",
       "    <tr>\n",
       "      <th>2</th>\n",
       "      <td>0</td>\n",
       "      <td>0</td>\n",
       "      <td>0</td>\n",
       "      <td>1</td>\n",
       "      <td>1</td>\n",
       "      <td>0</td>\n",
       "      <td>1</td>\n",
       "      <td>0</td>\n",
       "      <td>0</td>\n",
       "      <td>0</td>\n",
       "      <td>0</td>\n",
       "      <td>0</td>\n",
       "      <td>0</td>\n",
       "      <td>0</td>\n",
       "      <td>1</td>\n",
       "      <td>0</td>\n",
       "      <td>1</td>\n",
       "      <td>0</td>\n",
       "      <td>0</td>\n",
       "      <td>1</td>\n",
       "    </tr>\n",
       "    <tr>\n",
       "      <th>3</th>\n",
       "      <td>1</td>\n",
       "      <td>0</td>\n",
       "      <td>1</td>\n",
       "      <td>0</td>\n",
       "      <td>1</td>\n",
       "      <td>0</td>\n",
       "      <td>1</td>\n",
       "      <td>0</td>\n",
       "      <td>0</td>\n",
       "      <td>0</td>\n",
       "      <td>1</td>\n",
       "      <td>0</td>\n",
       "      <td>0</td>\n",
       "      <td>0</td>\n",
       "      <td>1</td>\n",
       "      <td>0</td>\n",
       "      <td>0</td>\n",
       "      <td>0</td>\n",
       "      <td>0</td>\n",
       "      <td>1</td>\n",
       "    </tr>\n",
       "    <tr>\n",
       "      <th>4</th>\n",
       "      <td>1</td>\n",
       "      <td>0</td>\n",
       "      <td>1</td>\n",
       "      <td>0</td>\n",
       "      <td>0</td>\n",
       "      <td>0</td>\n",
       "      <td>0</td>\n",
       "      <td>0</td>\n",
       "      <td>0</td>\n",
       "      <td>0</td>\n",
       "      <td>0</td>\n",
       "      <td>0</td>\n",
       "      <td>0</td>\n",
       "      <td>0</td>\n",
       "      <td>0</td>\n",
       "      <td>0</td>\n",
       "      <td>0</td>\n",
       "      <td>0</td>\n",
       "      <td>0</td>\n",
       "      <td>1</td>\n",
       "    </tr>\n",
       "    <tr>\n",
       "      <th>...</th>\n",
       "      <td>...</td>\n",
       "      <td>...</td>\n",
       "      <td>...</td>\n",
       "      <td>...</td>\n",
       "      <td>...</td>\n",
       "      <td>...</td>\n",
       "      <td>...</td>\n",
       "      <td>...</td>\n",
       "      <td>...</td>\n",
       "      <td>...</td>\n",
       "      <td>...</td>\n",
       "      <td>...</td>\n",
       "      <td>...</td>\n",
       "      <td>...</td>\n",
       "      <td>...</td>\n",
       "      <td>...</td>\n",
       "      <td>...</td>\n",
       "      <td>...</td>\n",
       "      <td>...</td>\n",
       "      <td>...</td>\n",
       "    </tr>\n",
       "    <tr>\n",
       "      <th>1262</th>\n",
       "      <td>0</td>\n",
       "      <td>0</td>\n",
       "      <td>1</td>\n",
       "      <td>0</td>\n",
       "      <td>0</td>\n",
       "      <td>1</td>\n",
       "      <td>0</td>\n",
       "      <td>1</td>\n",
       "      <td>0</td>\n",
       "      <td>0</td>\n",
       "      <td>0</td>\n",
       "      <td>0</td>\n",
       "      <td>1</td>\n",
       "      <td>1</td>\n",
       "      <td>0</td>\n",
       "      <td>1</td>\n",
       "      <td>0</td>\n",
       "      <td>0</td>\n",
       "      <td>0</td>\n",
       "      <td>0</td>\n",
       "    </tr>\n",
       "    <tr>\n",
       "      <th>1263</th>\n",
       "      <td>0</td>\n",
       "      <td>0</td>\n",
       "      <td>1</td>\n",
       "      <td>1</td>\n",
       "      <td>1</td>\n",
       "      <td>0</td>\n",
       "      <td>0</td>\n",
       "      <td>0</td>\n",
       "      <td>0</td>\n",
       "      <td>0</td>\n",
       "      <td>1</td>\n",
       "      <td>1</td>\n",
       "      <td>0</td>\n",
       "      <td>1</td>\n",
       "      <td>0</td>\n",
       "      <td>0</td>\n",
       "      <td>1</td>\n",
       "      <td>0</td>\n",
       "      <td>1</td>\n",
       "      <td>1</td>\n",
       "    </tr>\n",
       "    <tr>\n",
       "      <th>1264</th>\n",
       "      <td>0</td>\n",
       "      <td>0</td>\n",
       "      <td>0</td>\n",
       "      <td>1</td>\n",
       "      <td>1</td>\n",
       "      <td>0</td>\n",
       "      <td>0</td>\n",
       "      <td>0</td>\n",
       "      <td>0</td>\n",
       "      <td>0</td>\n",
       "      <td>0</td>\n",
       "      <td>0</td>\n",
       "      <td>0</td>\n",
       "      <td>1</td>\n",
       "      <td>1</td>\n",
       "      <td>0</td>\n",
       "      <td>0</td>\n",
       "      <td>0</td>\n",
       "      <td>0</td>\n",
       "      <td>1</td>\n",
       "    </tr>\n",
       "    <tr>\n",
       "      <th>1265</th>\n",
       "      <td>0</td>\n",
       "      <td>0</td>\n",
       "      <td>0</td>\n",
       "      <td>0</td>\n",
       "      <td>1</td>\n",
       "      <td>0</td>\n",
       "      <td>0</td>\n",
       "      <td>1</td>\n",
       "      <td>0</td>\n",
       "      <td>0</td>\n",
       "      <td>0</td>\n",
       "      <td>0</td>\n",
       "      <td>0</td>\n",
       "      <td>0</td>\n",
       "      <td>1</td>\n",
       "      <td>1</td>\n",
       "      <td>0</td>\n",
       "      <td>0</td>\n",
       "      <td>0</td>\n",
       "      <td>0</td>\n",
       "    </tr>\n",
       "    <tr>\n",
       "      <th>1266</th>\n",
       "      <td>0</td>\n",
       "      <td>1</td>\n",
       "      <td>1</td>\n",
       "      <td>0</td>\n",
       "      <td>0</td>\n",
       "      <td>1</td>\n",
       "      <td>0</td>\n",
       "      <td>1</td>\n",
       "      <td>0</td>\n",
       "      <td>0</td>\n",
       "      <td>0</td>\n",
       "      <td>0</td>\n",
       "      <td>0</td>\n",
       "      <td>0</td>\n",
       "      <td>1</td>\n",
       "      <td>1</td>\n",
       "      <td>0</td>\n",
       "      <td>0</td>\n",
       "      <td>0</td>\n",
       "      <td>1</td>\n",
       "    </tr>\n",
       "  </tbody>\n",
       "</table>\n",
       "<p>1267 rows × 20 columns</p>\n",
       "</div>"
      ],
      "text/plain": [
       "      bond:C(=O)N_carboxamide_generic  bond:C(=O)O_carboxylicAcid_generic  \\\n",
       "0                                   1                                   1   \n",
       "1                                   0                                   0   \n",
       "2                                   0                                   0   \n",
       "3                                   1                                   0   \n",
       "4                                   1                                   0   \n",
       "...                               ...                                 ...   \n",
       "1262                                0                                   0   \n",
       "1263                                0                                   0   \n",
       "1264                                0                                   0   \n",
       "1265                                0                                   0   \n",
       "1266                                0                                   1   \n",
       "\n",
       "      bond:C=O_carbonyl_generic  bond:CN_amine_alicyclic_generic  \\\n",
       "0                             1                                0   \n",
       "1                             0                                0   \n",
       "2                             0                                1   \n",
       "3                             1                                0   \n",
       "4                             1                                0   \n",
       "...                         ...                              ...   \n",
       "1262                          1                                0   \n",
       "1263                          1                                1   \n",
       "1264                          0                                1   \n",
       "1265                          0                                0   \n",
       "1266                          1                                0   \n",
       "\n",
       "      bond:CN_amine_aliphatic_generic  bond:COC_ether_aliphatic  \\\n",
       "0                                   1                         0   \n",
       "1                                   0                         0   \n",
       "2                                   1                         0   \n",
       "3                                   1                         0   \n",
       "4                                   0                         0   \n",
       "...                               ...                       ...   \n",
       "1262                                0                         1   \n",
       "1263                                1                         0   \n",
       "1264                                1                         0   \n",
       "1265                                1                         0   \n",
       "1266                                0                         1   \n",
       "\n",
       "      bond:COC_ether_aliphatic__aromatic  bond:COH_alcohol_generic  \\\n",
       "0                                      0                         1   \n",
       "1                                      0                         0   \n",
       "2                                      1                         0   \n",
       "3                                      1                         0   \n",
       "4                                      0                         0   \n",
       "...                                  ...                       ...   \n",
       "1262                                   0                         1   \n",
       "1263                                   0                         0   \n",
       "1264                                   0                         0   \n",
       "1265                                   0                         1   \n",
       "1266                                   0                         1   \n",
       "\n",
       "      bond:quatN_generic  bond:S=O_sulfonyl_generic  bond:X[any]_halide  \\\n",
       "0                      0                          0                   0   \n",
       "1                      0                          0                   0   \n",
       "2                      0                          0                   0   \n",
       "3                      0                          0                   1   \n",
       "4                      0                          0                   0   \n",
       "...                  ...                        ...                 ...   \n",
       "1262                   0                          0                   0   \n",
       "1263                   0                          0                   1   \n",
       "1264                   0                          0                   0   \n",
       "1265                   0                          0                   0   \n",
       "1266                   0                          0                   0   \n",
       "\n",
       "      bond:X[any_!C]_halide_inorganic  chain:alkaneBranch_isopropyl_C3  \\\n",
       "0                                   0                                0   \n",
       "1                                   0                                0   \n",
       "2                                   0                                0   \n",
       "3                                   0                                0   \n",
       "4                                   0                                0   \n",
       "...                               ...                              ...   \n",
       "1262                                0                                1   \n",
       "1263                                1                                0   \n",
       "1264                                0                                0   \n",
       "1265                                0                                0   \n",
       "1266                                0                                0   \n",
       "\n",
       "      chain:alkaneCyclic_ethyl_C2_(connect_noZ)  \\\n",
       "0                                             0   \n",
       "1                                             0   \n",
       "2                                             0   \n",
       "3                                             0   \n",
       "4                                             0   \n",
       "...                                         ...   \n",
       "1262                                          1   \n",
       "1263                                          1   \n",
       "1264                                          1   \n",
       "1265                                          0   \n",
       "1266                                          0   \n",
       "\n",
       "      chain:alkaneLinear_ethyl_C2(H_gt_1)  \\\n",
       "0                                       0   \n",
       "1                                       0   \n",
       "2                                       1   \n",
       "3                                       1   \n",
       "4                                       0   \n",
       "...                                   ...   \n",
       "1262                                    0   \n",
       "1263                                    0   \n",
       "1264                                    1   \n",
       "1265                                    1   \n",
       "1266                                    1   \n",
       "\n",
       "      chain:alkaneLinear_ethyl_C2_(connect_noZ_CN=4)  \\\n",
       "0                                                  0   \n",
       "1                                                  1   \n",
       "2                                                  0   \n",
       "3                                                  0   \n",
       "4                                                  0   \n",
       "...                                              ...   \n",
       "1262                                               1   \n",
       "1263                                               0   \n",
       "1264                                               0   \n",
       "1265                                               1   \n",
       "1266                                               1   \n",
       "\n",
       "      chain:aromaticAlkane_Ph-C1_acyclic_generic  \\\n",
       "0                                              1   \n",
       "1                                              1   \n",
       "2                                              1   \n",
       "3                                              0   \n",
       "4                                              0   \n",
       "...                                          ...   \n",
       "1262                                           0   \n",
       "1263                                           1   \n",
       "1264                                           0   \n",
       "1265                                           0   \n",
       "1266                                           0   \n",
       "\n",
       "      chain:aromaticAlkane_Ph-C1_cyclic  ring:hetero_[5]_Z_1-Z  \\\n",
       "0                                     0                      0   \n",
       "1                                     0                      0   \n",
       "2                                     0                      0   \n",
       "3                                     0                      0   \n",
       "4                                     0                      0   \n",
       "...                                 ...                    ...   \n",
       "1262                                  0                      0   \n",
       "1263                                  0                      1   \n",
       "1264                                  0                      0   \n",
       "1265                                  0                      0   \n",
       "1266                                  0                      0   \n",
       "\n",
       "      ring:hetero_[6]_Z_generic  \n",
       "0                             1  \n",
       "1                             0  \n",
       "2                             1  \n",
       "3                             1  \n",
       "4                             1  \n",
       "...                         ...  \n",
       "1262                          0  \n",
       "1263                          1  \n",
       "1264                          1  \n",
       "1265                          0  \n",
       "1266                          1  \n",
       "\n",
       "[1267 rows x 20 columns]"
      ]
     },
     "execution_count": 87,
     "metadata": {},
     "output_type": "execute_result"
    }
   ],
   "source": [
    "Xtrainmodel"
   ]
  },
  {
   "cell_type": "code",
   "execution_count": 88,
   "id": "4a7697fd",
   "metadata": {},
   "outputs": [
    {
     "data": {
      "text/html": [
       "<div>\n",
       "<style scoped>\n",
       "    .dataframe tbody tr th:only-of-type {\n",
       "        vertical-align: middle;\n",
       "    }\n",
       "\n",
       "    .dataframe tbody tr th {\n",
       "        vertical-align: top;\n",
       "    }\n",
       "\n",
       "    .dataframe thead th {\n",
       "        text-align: right;\n",
       "    }\n",
       "</style>\n",
       "<table border=\"1\" class=\"dataframe\">\n",
       "  <thead>\n",
       "    <tr style=\"text-align: right;\">\n",
       "      <th></th>\n",
       "      <th>bond:C(=O)N_carboxamide_generic</th>\n",
       "      <th>bond:C(=O)O_carboxylicAcid_generic</th>\n",
       "      <th>bond:C=O_carbonyl_generic</th>\n",
       "      <th>bond:CN_amine_alicyclic_generic</th>\n",
       "      <th>bond:CN_amine_aliphatic_generic</th>\n",
       "      <th>bond:COC_ether_aliphatic</th>\n",
       "      <th>bond:COC_ether_aliphatic__aromatic</th>\n",
       "      <th>bond:COH_alcohol_generic</th>\n",
       "      <th>bond:quatN_generic</th>\n",
       "      <th>bond:S=O_sulfonyl_generic</th>\n",
       "      <th>bond:X[any]_halide</th>\n",
       "      <th>bond:X[any_!C]_halide_inorganic</th>\n",
       "      <th>chain:alkaneBranch_isopropyl_C3</th>\n",
       "      <th>chain:alkaneCyclic_ethyl_C2_(connect_noZ)</th>\n",
       "      <th>chain:alkaneLinear_ethyl_C2(H_gt_1)</th>\n",
       "      <th>chain:alkaneLinear_ethyl_C2_(connect_noZ_CN=4)</th>\n",
       "      <th>chain:aromaticAlkane_Ph-C1_acyclic_generic</th>\n",
       "      <th>chain:aromaticAlkane_Ph-C1_cyclic</th>\n",
       "      <th>ring:hetero_[5]_Z_1-Z</th>\n",
       "      <th>ring:hetero_[6]_Z_generic</th>\n",
       "    </tr>\n",
       "  </thead>\n",
       "  <tbody>\n",
       "    <tr>\n",
       "      <th>0</th>\n",
       "      <td>0</td>\n",
       "      <td>0</td>\n",
       "      <td>0</td>\n",
       "      <td>1</td>\n",
       "      <td>1</td>\n",
       "      <td>0</td>\n",
       "      <td>0</td>\n",
       "      <td>1</td>\n",
       "      <td>0</td>\n",
       "      <td>0</td>\n",
       "      <td>1</td>\n",
       "      <td>1</td>\n",
       "      <td>0</td>\n",
       "      <td>1</td>\n",
       "      <td>1</td>\n",
       "      <td>0</td>\n",
       "      <td>1</td>\n",
       "      <td>0</td>\n",
       "      <td>0</td>\n",
       "      <td>1</td>\n",
       "    </tr>\n",
       "    <tr>\n",
       "      <th>1</th>\n",
       "      <td>0</td>\n",
       "      <td>0</td>\n",
       "      <td>0</td>\n",
       "      <td>0</td>\n",
       "      <td>0</td>\n",
       "      <td>1</td>\n",
       "      <td>0</td>\n",
       "      <td>1</td>\n",
       "      <td>0</td>\n",
       "      <td>0</td>\n",
       "      <td>0</td>\n",
       "      <td>0</td>\n",
       "      <td>0</td>\n",
       "      <td>1</td>\n",
       "      <td>0</td>\n",
       "      <td>0</td>\n",
       "      <td>0</td>\n",
       "      <td>0</td>\n",
       "      <td>1</td>\n",
       "      <td>1</td>\n",
       "    </tr>\n",
       "    <tr>\n",
       "      <th>2</th>\n",
       "      <td>1</td>\n",
       "      <td>1</td>\n",
       "      <td>1</td>\n",
       "      <td>1</td>\n",
       "      <td>1</td>\n",
       "      <td>0</td>\n",
       "      <td>0</td>\n",
       "      <td>0</td>\n",
       "      <td>0</td>\n",
       "      <td>0</td>\n",
       "      <td>0</td>\n",
       "      <td>0</td>\n",
       "      <td>0</td>\n",
       "      <td>1</td>\n",
       "      <td>1</td>\n",
       "      <td>1</td>\n",
       "      <td>1</td>\n",
       "      <td>0</td>\n",
       "      <td>0</td>\n",
       "      <td>1</td>\n",
       "    </tr>\n",
       "    <tr>\n",
       "      <th>3</th>\n",
       "      <td>1</td>\n",
       "      <td>0</td>\n",
       "      <td>1</td>\n",
       "      <td>1</td>\n",
       "      <td>1</td>\n",
       "      <td>0</td>\n",
       "      <td>0</td>\n",
       "      <td>0</td>\n",
       "      <td>0</td>\n",
       "      <td>0</td>\n",
       "      <td>1</td>\n",
       "      <td>1</td>\n",
       "      <td>0</td>\n",
       "      <td>0</td>\n",
       "      <td>1</td>\n",
       "      <td>0</td>\n",
       "      <td>0</td>\n",
       "      <td>1</td>\n",
       "      <td>0</td>\n",
       "      <td>1</td>\n",
       "    </tr>\n",
       "    <tr>\n",
       "      <th>4</th>\n",
       "      <td>1</td>\n",
       "      <td>0</td>\n",
       "      <td>1</td>\n",
       "      <td>1</td>\n",
       "      <td>1</td>\n",
       "      <td>0</td>\n",
       "      <td>0</td>\n",
       "      <td>1</td>\n",
       "      <td>0</td>\n",
       "      <td>0</td>\n",
       "      <td>1</td>\n",
       "      <td>0</td>\n",
       "      <td>0</td>\n",
       "      <td>1</td>\n",
       "      <td>1</td>\n",
       "      <td>0</td>\n",
       "      <td>0</td>\n",
       "      <td>0</td>\n",
       "      <td>0</td>\n",
       "      <td>1</td>\n",
       "    </tr>\n",
       "    <tr>\n",
       "      <th>...</th>\n",
       "      <td>...</td>\n",
       "      <td>...</td>\n",
       "      <td>...</td>\n",
       "      <td>...</td>\n",
       "      <td>...</td>\n",
       "      <td>...</td>\n",
       "      <td>...</td>\n",
       "      <td>...</td>\n",
       "      <td>...</td>\n",
       "      <td>...</td>\n",
       "      <td>...</td>\n",
       "      <td>...</td>\n",
       "      <td>...</td>\n",
       "      <td>...</td>\n",
       "      <td>...</td>\n",
       "      <td>...</td>\n",
       "      <td>...</td>\n",
       "      <td>...</td>\n",
       "      <td>...</td>\n",
       "      <td>...</td>\n",
       "    </tr>\n",
       "    <tr>\n",
       "      <th>538</th>\n",
       "      <td>0</td>\n",
       "      <td>0</td>\n",
       "      <td>1</td>\n",
       "      <td>0</td>\n",
       "      <td>0</td>\n",
       "      <td>0</td>\n",
       "      <td>0</td>\n",
       "      <td>0</td>\n",
       "      <td>0</td>\n",
       "      <td>0</td>\n",
       "      <td>0</td>\n",
       "      <td>0</td>\n",
       "      <td>0</td>\n",
       "      <td>0</td>\n",
       "      <td>1</td>\n",
       "      <td>1</td>\n",
       "      <td>0</td>\n",
       "      <td>0</td>\n",
       "      <td>0</td>\n",
       "      <td>0</td>\n",
       "    </tr>\n",
       "    <tr>\n",
       "      <th>539</th>\n",
       "      <td>0</td>\n",
       "      <td>0</td>\n",
       "      <td>0</td>\n",
       "      <td>1</td>\n",
       "      <td>1</td>\n",
       "      <td>0</td>\n",
       "      <td>1</td>\n",
       "      <td>0</td>\n",
       "      <td>0</td>\n",
       "      <td>0</td>\n",
       "      <td>0</td>\n",
       "      <td>0</td>\n",
       "      <td>0</td>\n",
       "      <td>0</td>\n",
       "      <td>1</td>\n",
       "      <td>0</td>\n",
       "      <td>1</td>\n",
       "      <td>0</td>\n",
       "      <td>0</td>\n",
       "      <td>1</td>\n",
       "    </tr>\n",
       "    <tr>\n",
       "      <th>540</th>\n",
       "      <td>1</td>\n",
       "      <td>0</td>\n",
       "      <td>1</td>\n",
       "      <td>0</td>\n",
       "      <td>0</td>\n",
       "      <td>0</td>\n",
       "      <td>0</td>\n",
       "      <td>0</td>\n",
       "      <td>0</td>\n",
       "      <td>0</td>\n",
       "      <td>0</td>\n",
       "      <td>0</td>\n",
       "      <td>0</td>\n",
       "      <td>0</td>\n",
       "      <td>0</td>\n",
       "      <td>0</td>\n",
       "      <td>0</td>\n",
       "      <td>1</td>\n",
       "      <td>0</td>\n",
       "      <td>1</td>\n",
       "    </tr>\n",
       "    <tr>\n",
       "      <th>541</th>\n",
       "      <td>1</td>\n",
       "      <td>0</td>\n",
       "      <td>1</td>\n",
       "      <td>1</td>\n",
       "      <td>1</td>\n",
       "      <td>1</td>\n",
       "      <td>0</td>\n",
       "      <td>0</td>\n",
       "      <td>0</td>\n",
       "      <td>0</td>\n",
       "      <td>0</td>\n",
       "      <td>0</td>\n",
       "      <td>0</td>\n",
       "      <td>0</td>\n",
       "      <td>1</td>\n",
       "      <td>1</td>\n",
       "      <td>0</td>\n",
       "      <td>1</td>\n",
       "      <td>0</td>\n",
       "      <td>1</td>\n",
       "    </tr>\n",
       "    <tr>\n",
       "      <th>542</th>\n",
       "      <td>0</td>\n",
       "      <td>0</td>\n",
       "      <td>1</td>\n",
       "      <td>0</td>\n",
       "      <td>0</td>\n",
       "      <td>0</td>\n",
       "      <td>0</td>\n",
       "      <td>1</td>\n",
       "      <td>1</td>\n",
       "      <td>0</td>\n",
       "      <td>0</td>\n",
       "      <td>0</td>\n",
       "      <td>0</td>\n",
       "      <td>1</td>\n",
       "      <td>0</td>\n",
       "      <td>0</td>\n",
       "      <td>1</td>\n",
       "      <td>0</td>\n",
       "      <td>1</td>\n",
       "      <td>0</td>\n",
       "    </tr>\n",
       "  </tbody>\n",
       "</table>\n",
       "<p>543 rows × 20 columns</p>\n",
       "</div>"
      ],
      "text/plain": [
       "     bond:C(=O)N_carboxamide_generic  bond:C(=O)O_carboxylicAcid_generic  \\\n",
       "0                                  0                                   0   \n",
       "1                                  0                                   0   \n",
       "2                                  1                                   1   \n",
       "3                                  1                                   0   \n",
       "4                                  1                                   0   \n",
       "..                               ...                                 ...   \n",
       "538                                0                                   0   \n",
       "539                                0                                   0   \n",
       "540                                1                                   0   \n",
       "541                                1                                   0   \n",
       "542                                0                                   0   \n",
       "\n",
       "     bond:C=O_carbonyl_generic  bond:CN_amine_alicyclic_generic  \\\n",
       "0                            0                                1   \n",
       "1                            0                                0   \n",
       "2                            1                                1   \n",
       "3                            1                                1   \n",
       "4                            1                                1   \n",
       "..                         ...                              ...   \n",
       "538                          1                                0   \n",
       "539                          0                                1   \n",
       "540                          1                                0   \n",
       "541                          1                                1   \n",
       "542                          1                                0   \n",
       "\n",
       "     bond:CN_amine_aliphatic_generic  bond:COC_ether_aliphatic  \\\n",
       "0                                  1                         0   \n",
       "1                                  0                         1   \n",
       "2                                  1                         0   \n",
       "3                                  1                         0   \n",
       "4                                  1                         0   \n",
       "..                               ...                       ...   \n",
       "538                                0                         0   \n",
       "539                                1                         0   \n",
       "540                                0                         0   \n",
       "541                                1                         1   \n",
       "542                                0                         0   \n",
       "\n",
       "     bond:COC_ether_aliphatic__aromatic  bond:COH_alcohol_generic  \\\n",
       "0                                     0                         1   \n",
       "1                                     0                         1   \n",
       "2                                     0                         0   \n",
       "3                                     0                         0   \n",
       "4                                     0                         1   \n",
       "..                                  ...                       ...   \n",
       "538                                   0                         0   \n",
       "539                                   1                         0   \n",
       "540                                   0                         0   \n",
       "541                                   0                         0   \n",
       "542                                   0                         1   \n",
       "\n",
       "     bond:quatN_generic  bond:S=O_sulfonyl_generic  bond:X[any]_halide  \\\n",
       "0                     0                          0                   1   \n",
       "1                     0                          0                   0   \n",
       "2                     0                          0                   0   \n",
       "3                     0                          0                   1   \n",
       "4                     0                          0                   1   \n",
       "..                  ...                        ...                 ...   \n",
       "538                   0                          0                   0   \n",
       "539                   0                          0                   0   \n",
       "540                   0                          0                   0   \n",
       "541                   0                          0                   0   \n",
       "542                   1                          0                   0   \n",
       "\n",
       "     bond:X[any_!C]_halide_inorganic  chain:alkaneBranch_isopropyl_C3  \\\n",
       "0                                  1                                0   \n",
       "1                                  0                                0   \n",
       "2                                  0                                0   \n",
       "3                                  1                                0   \n",
       "4                                  0                                0   \n",
       "..                               ...                              ...   \n",
       "538                                0                                0   \n",
       "539                                0                                0   \n",
       "540                                0                                0   \n",
       "541                                0                                0   \n",
       "542                                0                                0   \n",
       "\n",
       "     chain:alkaneCyclic_ethyl_C2_(connect_noZ)  \\\n",
       "0                                            1   \n",
       "1                                            1   \n",
       "2                                            1   \n",
       "3                                            0   \n",
       "4                                            1   \n",
       "..                                         ...   \n",
       "538                                          0   \n",
       "539                                          0   \n",
       "540                                          0   \n",
       "541                                          0   \n",
       "542                                          1   \n",
       "\n",
       "     chain:alkaneLinear_ethyl_C2(H_gt_1)  \\\n",
       "0                                      1   \n",
       "1                                      0   \n",
       "2                                      1   \n",
       "3                                      1   \n",
       "4                                      1   \n",
       "..                                   ...   \n",
       "538                                    1   \n",
       "539                                    1   \n",
       "540                                    0   \n",
       "541                                    1   \n",
       "542                                    0   \n",
       "\n",
       "     chain:alkaneLinear_ethyl_C2_(connect_noZ_CN=4)  \\\n",
       "0                                                 0   \n",
       "1                                                 0   \n",
       "2                                                 1   \n",
       "3                                                 0   \n",
       "4                                                 0   \n",
       "..                                              ...   \n",
       "538                                               1   \n",
       "539                                               0   \n",
       "540                                               0   \n",
       "541                                               1   \n",
       "542                                               0   \n",
       "\n",
       "     chain:aromaticAlkane_Ph-C1_acyclic_generic  \\\n",
       "0                                             1   \n",
       "1                                             0   \n",
       "2                                             1   \n",
       "3                                             0   \n",
       "4                                             0   \n",
       "..                                          ...   \n",
       "538                                           0   \n",
       "539                                           1   \n",
       "540                                           0   \n",
       "541                                           0   \n",
       "542                                           1   \n",
       "\n",
       "     chain:aromaticAlkane_Ph-C1_cyclic  ring:hetero_[5]_Z_1-Z  \\\n",
       "0                                    0                      0   \n",
       "1                                    0                      1   \n",
       "2                                    0                      0   \n",
       "3                                    1                      0   \n",
       "4                                    0                      0   \n",
       "..                                 ...                    ...   \n",
       "538                                  0                      0   \n",
       "539                                  0                      0   \n",
       "540                                  1                      0   \n",
       "541                                  1                      0   \n",
       "542                                  0                      1   \n",
       "\n",
       "     ring:hetero_[6]_Z_generic  \n",
       "0                            1  \n",
       "1                            1  \n",
       "2                            1  \n",
       "3                            1  \n",
       "4                            1  \n",
       "..                         ...  \n",
       "538                          0  \n",
       "539                          1  \n",
       "540                          1  \n",
       "541                          1  \n",
       "542                          0  \n",
       "\n",
       "[543 rows x 20 columns]"
      ]
     },
     "execution_count": 88,
     "metadata": {},
     "output_type": "execute_result"
    }
   ],
   "source": [
    "Xtestmodel"
   ]
  },
  {
   "cell_type": "code",
   "execution_count": 89,
   "id": "45788b38",
   "metadata": {},
   "outputs": [],
   "source": [
    "from sklearn.metrics import confusion_matrix,accuracy_score,f1_score,roc_auc_score,recall_score,precision_score\n",
    "from sklearn.model_selection import GridSearchCV\n",
    "from sklearn.ensemble import RandomForestClassifier"
   ]
  },
  {
   "cell_type": "markdown",
   "id": "29b1007e",
   "metadata": {},
   "source": [
    "# 随机森林分类&调参"
   ]
  },
  {
   "cell_type": "code",
   "execution_count": 90,
   "id": "29acad0c",
   "metadata": {},
   "outputs": [
    {
     "data": {
      "text/plain": [
       "(1267,)"
      ]
     },
     "execution_count": 90,
     "metadata": {},
     "output_type": "execute_result"
    }
   ],
   "source": [
    "Ytrain.shape"
   ]
  },
  {
   "cell_type": "code",
   "execution_count": 91,
   "id": "89da0cdb",
   "metadata": {},
   "outputs": [
    {
     "name": "stdout",
     "output_type": "stream",
     "text": [
      "{'max_depth': 6}\n",
      "0.7458255218097738\n"
     ]
    }
   ],
   "source": [
    "\n",
    "param_test3={'max_depth':range(1,20,1)}\n",
    "grid_search_2=GridSearchCV(estimator=RandomForestClassifier(n_estimators=200, random_state=68),param_grid=param_test3,scoring='accuracy',cv=10)\n",
    "grid_search_2.fit(Xtrainmodel,Ytrain)\n",
    "print(grid_search_2.best_params_)\n",
    "print(grid_search_2.best_score_)"
   ]
  },
  {
   "cell_type": "code",
   "execution_count": 92,
   "id": "be0d2ac4",
   "metadata": {},
   "outputs": [],
   "source": [
    "from sklearn.model_selection import cross_val_score\n",
    "rfc = RandomForestClassifier(n_estimators=180,random_state=85)\n",
    "rfc_c = rfc.fit(Xtrainmodel, Ytrain)\n",
    "rfcy_pred = rfc_c.predict(Xtestmodel)"
   ]
  },
  {
   "cell_type": "code",
   "execution_count": 93,
   "id": "1758e62d",
   "metadata": {},
   "outputs": [
    {
     "name": "stdout",
     "output_type": "stream",
     "text": [
      "0.7016574585635359\n",
      "0.6567796610169492\n",
      "0.6961220553795289\n",
      "0.3930136745331132\n"
     ]
    }
   ],
   "source": [
    "from sklearn import metrics\n",
    "# 计算测试集的R2、MSE值\n",
    "print(metrics.accuracy_score(Ytest, rfcy_pred))\n",
    "print(metrics.f1_score(Ytest, rfcy_pred))\n",
    "print(metrics.roc_auc_score(Ytest, rfcy_pred))\n",
    "print(metrics.matthews_corrcoef(Ytest, rfcy_pred))"
   ]
  },
  {
   "cell_type": "code",
   "execution_count": 94,
   "id": "96553155",
   "metadata": {},
   "outputs": [],
   "source": [
    "conf_mattest = confusion_matrix(Ytest, rfcy_pred)"
   ]
  },
  {
   "cell_type": "code",
   "execution_count": 95,
   "id": "fd35d34f",
   "metadata": {},
   "outputs": [
    {
     "data": {
      "text/plain": [
       "array([[226,  79],\n",
       "       [ 83, 155]], dtype=int64)"
      ]
     },
     "execution_count": 95,
     "metadata": {},
     "output_type": "execute_result"
    }
   ],
   "source": [
    "conf_mattest"
   ]
  },
  {
   "cell_type": "code",
   "execution_count": 96,
   "id": "f2bf3dee",
   "metadata": {},
   "outputs": [
    {
     "name": "stdout",
     "output_type": "stream",
     "text": [
      "0.7237782777152857\n",
      "0.6662109085836508\n",
      "0.7950361079467797\n"
     ]
    }
   ],
   "source": [
    "print(cross_val_score(rfc_c,Xtrainmodel,Ytrain,cv=10,scoring=\"accuracy\").mean())\n",
    "print(cross_val_score(rfc_c,Xtrainmodel,Ytrain,cv=10,scoring=\"f1\").mean())\n",
    "print(cross_val_score(rfc_c,Xtrainmodel,Ytrain,cv=10,scoring=\"roc_auc\").mean())"
   ]
  },
  {
   "cell_type": "code",
   "execution_count": 97,
   "id": "6c0a0c79",
   "metadata": {},
   "outputs": [],
   "source": [
    "from sklearn.model_selection import cross_val_predict\n",
    "from sklearn.metrics import confusion_matrix\n",
    "ycm_pred = cross_val_predict(rfc_c,Xtrainmodel,Ytrain,cv=10)\n",
    "conf_mat = confusion_matrix(Ytrain, ycm_pred)"
   ]
  },
  {
   "cell_type": "code",
   "execution_count": 98,
   "id": "1cf5da9a",
   "metadata": {},
   "outputs": [
    {
     "data": {
      "text/plain": [
       "array([[565, 163],\n",
       "       [187, 352]], dtype=int64)"
      ]
     },
     "execution_count": 98,
     "metadata": {},
     "output_type": "execute_result"
    }
   ],
   "source": [
    "conf_mat "
   ]
  },
  {
   "cell_type": "code",
   "execution_count": 99,
   "id": "4a4f28f8",
   "metadata": {},
   "outputs": [
    {
     "name": "stdout",
     "output_type": "stream",
     "text": [
      "{'n_estimators': 181}\n",
      "0.7253593300837397\n"
     ]
    }
   ],
   "source": [
    "from sklearn.model_selection import GridSearchCV\n",
    "param_test1={'n_estimators':range(1,300,10)}\n",
    "grid_search=GridSearchCV(estimator=RandomForestClassifier(random_state=85),param_grid=param_test1,scoring='accuracy',cv=10)\n",
    "grid_search.fit(Xtrainmodel,Ytrain)\n",
    "print(grid_search.best_params_)\n",
    "print(grid_search.best_score_)"
   ]
  },
  {
   "cell_type": "code",
   "execution_count": 100,
   "id": "62c01cab",
   "metadata": {},
   "outputs": [
    {
     "name": "stdout",
     "output_type": "stream",
     "text": [
      "{'max_depth': 6}\n",
      "0.7434508186476692\n"
     ]
    }
   ],
   "source": [
    "param_test3={'max_depth':range(1,20,1)}\n",
    "grid_search_2=GridSearchCV(estimator=RandomForestClassifier(n_estimators=180, random_state=85),param_grid=param_test3,scoring='accuracy',cv=10)\n",
    "grid_search_2.fit(Xtrainmodel,Ytrain)\n",
    "print(grid_search_2.best_params_)\n",
    "print(grid_search_2.best_score_)"
   ]
  },
  {
   "cell_type": "markdown",
   "id": "beea12d4",
   "metadata": {},
   "source": [
    "# 支持向量机分类&调参"
   ]
  },
  {
   "cell_type": "code",
   "execution_count": 101,
   "id": "071ad03c",
   "metadata": {},
   "outputs": [
    {
     "data": {
      "text/plain": [
       "(1267, 20)"
      ]
     },
     "execution_count": 101,
     "metadata": {},
     "output_type": "execute_result"
    }
   ],
   "source": [
    "Xtrainmodel.shape"
   ]
  },
  {
   "cell_type": "code",
   "execution_count": 102,
   "id": "4f47854b",
   "metadata": {},
   "outputs": [
    {
     "data": {
      "text/plain": [
       "(543, 20)"
      ]
     },
     "execution_count": 102,
     "metadata": {},
     "output_type": "execute_result"
    }
   ],
   "source": [
    "Xtestmodel.shape"
   ]
  },
  {
   "cell_type": "code",
   "execution_count": 103,
   "id": "52f7e38f",
   "metadata": {},
   "outputs": [],
   "source": [
    "from sklearn import svm\n",
    "svm_ = svm.SVC()\n",
    "svm_c = svm_.fit(Xtrainmodel, Ytrain)\n",
    "svmy_pred = svm_c.predict(Xtestmodel)"
   ]
  },
  {
   "cell_type": "code",
   "execution_count": 104,
   "id": "dd20d556",
   "metadata": {},
   "outputs": [
    {
     "name": "stdout",
     "output_type": "stream",
     "text": [
      "0.6924493554327809\n",
      "0.6297117516629711\n",
      "0.6819258851081416\n",
      "0.3697567566814339\n"
     ]
    }
   ],
   "source": [
    "print(metrics.accuracy_score(Ytest, svmy_pred))\n",
    "print(metrics.f1_score(Ytest, svmy_pred))\n",
    "print(metrics.roc_auc_score(Ytest, svmy_pred))\n",
    "print(metrics.matthews_corrcoef(Ytest, svmy_pred))"
   ]
  },
  {
   "cell_type": "code",
   "execution_count": 105,
   "id": "63d3da9a",
   "metadata": {},
   "outputs": [
    {
     "name": "stdout",
     "output_type": "stream",
     "text": [
      "[[234  71]\n",
      " [ 96 142]]\n"
     ]
    }
   ],
   "source": [
    "svmconf_mattest = confusion_matrix(Ytest, svmy_pred)\n",
    "print(svmconf_mattest)"
   ]
  },
  {
   "cell_type": "code",
   "execution_count": 106,
   "id": "76f65343",
   "metadata": {},
   "outputs": [
    {
     "name": "stdout",
     "output_type": "stream",
     "text": [
      "0.7442632170978628\n",
      "0.6734473280971331\n",
      "0.8087264150943396\n"
     ]
    }
   ],
   "source": [
    "print(cross_val_score(svm_c,Xtrainmodel, Ytrain,cv=10,scoring=\"accuracy\").mean())\n",
    "print(cross_val_score(svm_c,Xtrainmodel, Ytrain,cv=10,scoring=\"f1\").mean())\n",
    "print(cross_val_score(svm_c,Xtrainmodel, Ytrain,cv=10,scoring=\"roc_auc\").mean())"
   ]
  },
  {
   "cell_type": "code",
   "execution_count": 107,
   "id": "6f8383f3",
   "metadata": {},
   "outputs": [
    {
     "name": "stdout",
     "output_type": "stream",
     "text": [
      "[[604 124]\n",
      " [200 339]]\n"
     ]
    }
   ],
   "source": [
    "from sklearn.model_selection import cross_val_predict\n",
    "from sklearn.metrics import confusion_matrix\n",
    "svmycm_pred = cross_val_predict(svm_c,Xtrainmodel,Ytrain,cv=10)\n",
    "svmconf_mat = confusion_matrix(Ytrain, svmycm_pred)\n",
    "print(svmconf_mat)"
   ]
  },
  {
   "cell_type": "code",
   "execution_count": 108,
   "id": "2a10957e",
   "metadata": {},
   "outputs": [
    {
     "data": {
      "text/plain": [
       "0    728\n",
       "1    539\n",
       "Name: label, dtype: int64"
      ]
     },
     "execution_count": 108,
     "metadata": {},
     "output_type": "execute_result"
    }
   ],
   "source": [
    "pd.value_counts(Ytrain)"
   ]
  },
  {
   "cell_type": "code",
   "execution_count": 109,
   "id": "3ac8b00c",
   "metadata": {},
   "outputs": [
    {
     "data": {
      "text/plain": [
       "0    305\n",
       "1    238\n",
       "Name: label, dtype: int64"
      ]
     },
     "execution_count": 109,
     "metadata": {},
     "output_type": "execute_result"
    }
   ],
   "source": [
    "pd.value_counts(Ytest)"
   ]
  },
  {
   "cell_type": "code",
   "execution_count": 110,
   "id": "06581ab1",
   "metadata": {},
   "outputs": [
    {
     "data": {
      "text/plain": [
       "(1267,)"
      ]
     },
     "execution_count": 110,
     "metadata": {},
     "output_type": "execute_result"
    }
   ],
   "source": [
    "Ytrain.shape"
   ]
  },
  {
   "cell_type": "code",
   "execution_count": 111,
   "id": "b2c79edf",
   "metadata": {},
   "outputs": [
    {
     "data": {
      "text/plain": [
       "(543,)"
      ]
     },
     "execution_count": 111,
     "metadata": {},
     "output_type": "execute_result"
    }
   ],
   "source": [
    "Ytest.shape"
   ]
  },
  {
   "cell_type": "markdown",
   "id": "3021742b",
   "metadata": {},
   "source": [
    "# K近邻分类&调参"
   ]
  },
  {
   "cell_type": "code",
   "execution_count": 112,
   "id": "1f039587",
   "metadata": {},
   "outputs": [],
   "source": [
    "from sklearn import model_selection"
   ]
  },
  {
   "cell_type": "code",
   "execution_count": 113,
   "id": "5ca714f8",
   "metadata": {},
   "outputs": [],
   "source": [
    "from sklearn.neighbors import KNeighborsClassifier"
   ]
  },
  {
   "cell_type": "code",
   "execution_count": 114,
   "id": "524493a5",
   "metadata": {},
   "outputs": [
    {
     "data": {
      "text/plain": [
       "[0.6827334083239595,\n",
       " 0.6763904511936009,\n",
       " 0.7245594300712412,\n",
       " 0.6850581177352831,\n",
       " 0.7213723284589427,\n",
       " 0.7134858142732159,\n",
       " 0.7324209473815774]"
      ]
     },
     "execution_count": 114,
     "metadata": {},
     "output_type": "execute_result"
    }
   ],
   "source": [
    "# 设置待测试的不同k值\n",
    "K = np.arange(1,8)\n",
    "# 构建空的列表，用于存储r2\n",
    "AUC = []\n",
    "for k in K:\n",
    "    # 使用10重交叉验证的方法，比对每一个k值下KNN模型的预测r2\n",
    "    cv_result = model_selection.cross_val_score(KNeighborsClassifier(n_neighbors = int(k)),\n",
    "                                                                         Xtrainmodel,Ytrain,cv = 10, scoring='accuracy')\n",
    "    AUC.append(cv_result.mean())\n",
    "AUC"
   ]
  },
  {
   "cell_type": "code",
   "execution_count": 115,
   "id": "cec2f4af",
   "metadata": {},
   "outputs": [],
   "source": [
    "import matplotlib.pyplot as plt"
   ]
  },
  {
   "cell_type": "code",
   "execution_count": 116,
   "id": "c92b6be2",
   "metadata": {},
   "outputs": [
    {
     "data": {
      "text/plain": [
       "<function matplotlib.pyplot.show(close=None, block=None)>"
      ]
     },
     "execution_count": 116,
     "metadata": {},
     "output_type": "execute_result"
    },
    {
     "data": {
      "image/png": "[encoded data removed]",
      "text/plain": [
       "<Figure size 640x480 with 1 Axes>"
      ]
     },
     "metadata": {},
     "output_type": "display_data"
    }
   ],
   "source": [
    "# 从k个平均r2中挑选出最大值所对应的下标    \n",
    "arg_max = np.array(AUC).argmax()\n",
    "# 中文和负号的正常显示\n",
    "plt.rcParams['font.sans-serif'] = ['Microsoft YaHei']\n",
    "plt.rcParams['axes.unicode_minus'] = False\n",
    "# 绘制不同K值与平均预测r2之间的折线图\n",
    "plt.plot(K, AUC)\n",
    "# 添加点图\n",
    "plt.scatter(K, AUC)\n",
    "# 添加文字说明\n",
    "plt.text(K[arg_max], AUC[arg_max], 'k = %s' %int(K[arg_max]))\n",
    "# 显示图形\n",
    "plt.xlabel(\"Selected k value\",fontsize=15)\n",
    "plt.ylabel(\"The score of cross-validation\",fontsize=15)\n",
    "plt.xticks(fontsize=20)\n",
    "plt.yticks(fontsize=20)\n",
    "plt.savefig(\"Selected k value.png\",dpi=600,bbox_inches='tight')#保存图片\n",
    "plt.show"
   ]
  },
  {
   "cell_type": "code",
   "execution_count": 117,
   "id": "d7f9461d",
   "metadata": {},
   "outputs": [],
   "source": [
    "neigh = KNeighborsClassifier(n_neighbors=7)\n",
    "neigh_c = neigh.fit(Xtrainmodel, Ytrain)\n",
    "knny_pred = neigh_c.predict(Xtestmodel)"
   ]
  },
  {
   "cell_type": "code",
   "execution_count": 118,
   "id": "07393e99",
   "metadata": {},
   "outputs": [
    {
     "name": "stdout",
     "output_type": "stream",
     "text": [
      "0.6979742173112339\n",
      "0.6387665198237885\n",
      "0.688228406116545\n",
      "0.38163905051187286\n"
     ]
    }
   ],
   "source": [
    "print(metrics.accuracy_score(Ytest, knny_pred))\n",
    "print(metrics.f1_score(Ytest, knny_pred))\n",
    "print(metrics.roc_auc_score(Ytest, knny_pred))\n",
    "print(metrics.matthews_corrcoef(Ytest, knny_pred))"
   ]
  },
  {
   "cell_type": "code",
   "execution_count": 119,
   "id": "042f53c5",
   "metadata": {},
   "outputs": [
    {
     "name": "stdout",
     "output_type": "stream",
     "text": [
      "[[234  71]\n",
      " [ 93 145]]\n"
     ]
    }
   ],
   "source": [
    "knnconf_mattest = confusion_matrix(Ytest, knny_pred)\n",
    "print(knnconf_mattest)"
   ]
  },
  {
   "cell_type": "code",
   "execution_count": 120,
   "id": "7f16c1a8",
   "metadata": {},
   "outputs": [
    {
     "name": "stdout",
     "output_type": "stream",
     "text": [
      "0.7324209473815774\n",
      "0.6660097157138722\n",
      "0.7907615648336945\n"
     ]
    }
   ],
   "source": [
    "print(cross_val_score(neigh_c,Xtrainmodel, Ytrain,cv=10,scoring=\"accuracy\").mean())\n",
    "print(cross_val_score(neigh_c,Xtrainmodel, Ytrain,cv=10,scoring=\"f1\").mean())\n",
    "print(cross_val_score(neigh_c,Xtrainmodel, Ytrain,cv=10,scoring=\"roc_auc\").mean())"
   ]
  },
  {
   "cell_type": "code",
   "execution_count": 121,
   "id": "97ae3f3c",
   "metadata": {},
   "outputs": [
    {
     "name": "stdout",
     "output_type": "stream",
     "text": [
      "[[585 143]\n",
      " [196 343]]\n"
     ]
    }
   ],
   "source": [
    "knnycm_pred = cross_val_predict(neigh_c,Xtrainmodel,Ytrain,cv=10)\n",
    "knnconf_mat = confusion_matrix(Ytrain, knnycm_pred)\n",
    "print(knnconf_mat)"
   ]
  },
  {
   "cell_type": "markdown",
   "id": "b1604c16",
   "metadata": {},
   "source": [
    "# 梯度提升决策树分类&调参"
   ]
  },
  {
   "cell_type": "code",
   "execution_count": 122,
   "id": "2984a7d7",
   "metadata": {},
   "outputs": [],
   "source": [
    "from sklearn.ensemble import GradientBoostingClassifier\n",
    "GB = GradientBoostingClassifier(random_state=68, n_estimators=50)\n",
    "GB_c = GB.fit(Xtrainmodel,Ytrain)\n",
    "GBy_pred = GB_c.predict(Xtestmodel)\n",
    "GBy0_pred = GB_c.predict(Xtrainmodel)"
   ]
  },
  {
   "cell_type": "code",
   "execution_count": 123,
   "id": "7723a123",
   "metadata": {},
   "outputs": [
    {
     "name": "stdout",
     "output_type": "stream",
     "text": [
      "0.6942909760589319\n",
      "0.6261261261261262\n",
      "0.6821807411489187\n",
      "0.3725823673057774\n"
     ]
    }
   ],
   "source": [
    "# 计算测试集的R2、MSE值\n",
    "print(metrics.accuracy_score(Ytest, GBy_pred))\n",
    "print(metrics.f1_score(Ytest, GBy_pred))\n",
    "print(metrics.roc_auc_score(Ytest, GBy_pred))\n",
    "print(metrics.matthews_corrcoef(Ytest, GBy_pred))"
   ]
  },
  {
   "cell_type": "code",
   "execution_count": 124,
   "id": "1d002f73",
   "metadata": {},
   "outputs": [
    {
     "name": "stdout",
     "output_type": "stream",
     "text": [
      "{'n_estimators': 51}\n",
      "0.7600549931258593\n"
     ]
    }
   ],
   "source": [
    "from sklearn.model_selection import GridSearchCV\n",
    "param_test5={'n_estimators':range(1,300,10)}\n",
    "grid_search5=GridSearchCV(estimator=GradientBoostingClassifier(random_state=68),param_grid=param_test5,scoring='accuracy',cv=10)\n",
    "grid_search5.fit(Xtrainmodel,Ytrain)\n",
    "print(grid_search5.best_params_)\n",
    "print(grid_search5.best_score_)"
   ]
  },
  {
   "cell_type": "code",
   "execution_count": 125,
   "id": "a2bf53f2",
   "metadata": {},
   "outputs": [
    {
     "name": "stdout",
     "output_type": "stream",
     "text": [
      "[[238  67]\n",
      " [ 99 139]]\n"
     ]
    }
   ],
   "source": [
    "gbconf_mattest = confusion_matrix(Ytest,GBy_pred)\n",
    "print(gbconf_mattest)"
   ]
  },
  {
   "cell_type": "code",
   "execution_count": 126,
   "id": "f05b2890",
   "metadata": {},
   "outputs": [
    {
     "name": "stdout",
     "output_type": "stream",
     "text": [
      "0.7600487439070116\n",
      "0.6973323028415617\n",
      "0.8125129597986316\n"
     ]
    }
   ],
   "source": [
    "print(cross_val_score(GB_c,Xtrainmodel, Ytrain,cv=10,scoring=\"accuracy\").mean())\n",
    "print(cross_val_score(GB_c,Xtrainmodel, Ytrain,cv=10,scoring=\"f1\").mean())\n",
    "print(cross_val_score(GB_c,Xtrainmodel, Ytrain,cv=10,scoring=\"roc_auc\").mean())"
   ]
  },
  {
   "cell_type": "code",
   "execution_count": 127,
   "id": "f61b9ab6",
   "metadata": {},
   "outputs": [
    {
     "name": "stdout",
     "output_type": "stream",
     "text": [
      "[[609 119]\n",
      " [185 354]]\n"
     ]
    }
   ],
   "source": [
    "GBycm_pred = cross_val_predict(GB_c,Xtrainmodel,Ytrain,cv=10)\n",
    "GBconf_mat = confusion_matrix(Ytrain, GBycm_pred)\n",
    "print(GBconf_mat)"
   ]
  },
  {
   "cell_type": "markdown",
   "id": "67b63629",
   "metadata": {},
   "source": [
    "# 决策树分类模型&调参"
   ]
  },
  {
   "cell_type": "code",
   "execution_count": 128,
   "id": "d4c3f446",
   "metadata": {},
   "outputs": [],
   "source": [
    "from sklearn import tree"
   ]
  },
  {
   "cell_type": "code",
   "execution_count": 129,
   "id": "c77a7eb4",
   "metadata": {},
   "outputs": [],
   "source": [
    "from sklearn.model_selection import GridSearchCV #网格搜索"
   ]
  },
  {
   "cell_type": "code",
   "execution_count": 130,
   "id": "37ffa5d9",
   "metadata": {},
   "outputs": [
    {
     "data": {
      "text/plain": [
       "({'max_depth': 9, 'min_samples_leaf': 6, 'min_samples_split': 5},\n",
       " 0.737132858392701)"
      ]
     },
     "execution_count": 130,
     "metadata": {},
     "output_type": "execute_result"
    }
   ],
   "source": [
    "# 预设各参数的不同选项值\n",
    "max_depth = [5,7,9,15,20,30]\n",
    "min_samples_leaf = [5,6,7,8,9,10,15,20,30]\n",
    "min_samples_split = [5,6,7,8,9,10,15,20,30]\n",
    "parameters = {'max_depth':max_depth, 'min_samples_split':min_samples_split, 'min_samples_leaf':min_samples_leaf}\n",
    "# 网格搜索法，测试不同的参数值\n",
    "grid_dt = GridSearchCV(estimator = tree.DecisionTreeClassifier(), param_grid = parameters, cv=10)\n",
    "# 模型拟合\n",
    "grid_dt_c = grid_dt.fit(Xtrainmodel, Ytrain)\n",
    "# 返回最佳组合的参数值\n",
    "grid_dt_c.best_params_,grid_dt_c.best_score_"
   ]
  },
  {
   "cell_type": "code",
   "execution_count": 131,
   "id": "6e43645d",
   "metadata": {},
   "outputs": [],
   "source": [
    "dtc = tree.DecisionTreeClassifier(max_depth = 9, min_samples_leaf = 6, min_samples_split = 10,random_state=85)\n",
    "dtc_c = dtc.fit(Xtrainmodel, Ytrain)\n",
    "dtcy_pred = dtc_c.predict(Xtestmodel)"
   ]
  },
  {
   "cell_type": "code",
   "execution_count": 132,
   "id": "4c3e4c54",
   "metadata": {},
   "outputs": [
    {
     "name": "stdout",
     "output_type": "stream",
     "text": [
      "0.6850828729281768\n",
      "0.6415094339622641\n",
      "0.6804449648711943\n",
      "0.3607259780591293\n"
     ]
    }
   ],
   "source": [
    "print(metrics.accuracy_score(Ytest, dtcy_pred))\n",
    "print(metrics.f1_score(Ytest, dtcy_pred))\n",
    "print(metrics.roc_auc_score(Ytest, dtcy_pred))\n",
    "print(metrics.matthews_corrcoef(Ytest, dtcy_pred))"
   ]
  },
  {
   "cell_type": "code",
   "execution_count": 133,
   "id": "4ed6be4a",
   "metadata": {},
   "outputs": [
    {
     "name": "stdout",
     "output_type": "stream",
     "text": [
      "[[219  86]\n",
      " [ 85 153]]\n"
     ]
    }
   ],
   "source": [
    "dtcconf_mattest = confusion_matrix(Ytest,dtcy_pred)\n",
    "print(dtcconf_mattest)"
   ]
  },
  {
   "cell_type": "code",
   "execution_count": 134,
   "id": "421502d6",
   "metadata": {},
   "outputs": [
    {
     "name": "stdout",
     "output_type": "stream",
     "text": [
      "0.737132858392701\n",
      "0.6702325078468683\n",
      "0.7878574930039024\n"
     ]
    }
   ],
   "source": [
    "print(cross_val_score(dtc,Xtrainmodel, Ytrain,cv=10,scoring=\"accuracy\").mean())\n",
    "print(cross_val_score(dtc,Xtrainmodel, Ytrain,cv=10,scoring=\"f1\").mean())\n",
    "print(cross_val_score(dtc,Xtrainmodel, Ytrain,cv=10,scoring=\"roc_auc\").mean())"
   ]
  },
  {
   "cell_type": "code",
   "execution_count": 135,
   "id": "c2ec7edb",
   "metadata": {},
   "outputs": [
    {
     "name": "stdout",
     "output_type": "stream",
     "text": [
      "[[592 136]\n",
      " [197 342]]\n"
     ]
    }
   ],
   "source": [
    "dtcycm_pred = cross_val_predict(dtc,Xtrainmodel,Ytrain,cv=10)\n",
    "dtcconf_mat = confusion_matrix(Ytrain, dtcycm_pred)\n",
    "print(dtcconf_mat)"
   ]
  }
 ],
 "metadata": {
  "kernelspec": {
   "display_name": "Python 3 (ipykernel)",
   "language": "python",
   "name": "python3"
  },
  "language_info": {
   "codemirror_mode": {
    "name": "ipython",
    "version": 3
   },
   "file_extension": ".py",
   "mimetype": "text/x-python",
   "name": "python",
   "nbconvert_exporter": "python",
   "pygments_lexer": "ipython3",
   "version": "3.10.9"
  }
 },
 "nbformat": 4,
 "nbformat_minor": 5
}
